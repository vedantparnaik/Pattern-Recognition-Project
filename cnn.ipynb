{
  "nbformat": 4,
  "nbformat_minor": 0,
  "metadata": {
    "colab": {
      "provenance": [],
      "authorship_tag": "ABX9TyMhFG67LxKGHRqap/dZX1Bn",
      "include_colab_link": true
    },
    "kernelspec": {
      "name": "python3",
      "display_name": "Python 3"
    },
    "language_info": {
      "name": "python"
    }
  },
  "cells": [
    {
      "cell_type": "markdown",
      "metadata": {
        "id": "view-in-github",
        "colab_type": "text"
      },
      "source": [
        "<a href=\"https://colab.research.google.com/github/vedantparnaik/Pattern-Recognition-Project/blob/main/cnn.ipynb\" target=\"_parent\"><img src=\"https://colab.research.google.com/assets/colab-badge.svg\" alt=\"Open In Colab\"/></a>"
      ]
    },
    {
      "cell_type": "code",
      "execution_count": 2,
      "metadata": {
        "id": "UVFm3gJxX02_"
      },
      "outputs": [],
      "source": [
        "import numpy as np # linear algebra\n",
        "import pandas as pd # data processing\n",
        "import matplotlib.pyplot as plt # image plotting\n",
        "import os\n",
        "import time"
      ]
    },
    {
      "cell_type": "code",
      "source": [
        "input_data_path = '/Users/abhishekpaharia/software_development/python3/555/kaggle/images'\n",
        "annotations_path = \"/Users/abhishekpaharia/software_development/python3/555/kaggle/annotations\"\n",
        "#images = [*os.listdir(\"/Users/abhishekpaharia/software_development/python3/555/kaggle/images\")]\n",
        "output_data_path =  '.'"
      ],
      "metadata": {
        "id": "wgwymu6iYoZi"
      },
      "execution_count": 6,
      "outputs": []
    }
  ]
}