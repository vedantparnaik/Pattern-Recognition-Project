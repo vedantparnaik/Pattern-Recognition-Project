{
 "cells": [
  {
   "cell_type": "code",
   "execution_count": 1,
   "id": "5b3447a6",
   "metadata": {
    "_cell_guid": "b1076dfc-b9ad-4769-8c92-a6c4dae69d19",
    "_uuid": "8f2839f25d086af736a60e9eeb907d3b93b6e0e5",
    "execution": {
     "iopub.execute_input": "2023-07-31T22:45:27.308958Z",
     "iopub.status.busy": "2023-07-31T22:45:27.307539Z",
     "iopub.status.idle": "2023-07-31T22:45:36.731023Z",
     "shell.execute_reply": "2023-07-31T22:45:36.729828Z"
    },
    "papermill": {
     "duration": 9.442985,
     "end_time": "2023-07-31T22:45:36.734421",
     "exception": false,
     "start_time": "2023-07-31T22:45:27.291436",
     "status": "completed"
    },
    "tags": []
   },
   "outputs": [],
   "source": [
    "import numpy as np\n",
    "import pandas as pd\n",
    "import matplotlib.pyplot as plt\n",
    "import os\n",
    "import xml.etree.ElementTree as ET\n",
    "import glob\n",
    "from PIL import Image\n",
    "from sklearn.model_selection import train_test_split\n",
    "from keras.models import Sequential\n",
    "from keras.layers import Conv2D, MaxPooling2D, Flatten, Dense, Dropout\n",
    "from keras.preprocessing.image import ImageDataGenerator\n",
    "from tensorflow.keras.callbacks import EarlyStopping\n",
    "from tensorflow.keras.callbacks import ReduceLROnPlateau\n",
    "from sklearn.metrics import confusion_matrix, classification_report\n",
    "from sklearn.metrics import precision_score, recall_score, accuracy_score,f1_score, classification_report\n",
    "import cv2\n",
    "import seaborn as sns \n",
    "\n",
    "\n",
    "input_data_path = '/kaggle/input/face-mask-detection/images'\n",
    "annotations_path = \"/kaggle/input/face-mask-detection/annotations\"\n",
    "images = [*os.listdir(\"/kaggle/input/face-mask-detection/images\")]\n",
    "output_data_path =  '.'\n"
   ]
  },
  {
   "cell_type": "code",
   "execution_count": 2,
   "id": "2bbbeddb",
   "metadata": {
    "execution": {
     "iopub.execute_input": "2023-07-31T22:45:36.763012Z",
     "iopub.status.busy": "2023-07-31T22:45:36.761583Z",
     "iopub.status.idle": "2023-07-31T22:45:36.778430Z",
     "shell.execute_reply": "2023-07-31T22:45:36.777377Z"
    },
    "papermill": {
     "duration": 0.033835,
     "end_time": "2023-07-31T22:45:36.781293",
     "exception": false,
     "start_time": "2023-07-31T22:45:36.747458",
     "status": "completed"
    },
    "tags": []
   },
   "outputs": [],
   "source": [
    "def parse_annotation(path):\n",
    "    tree = ET.parse(path)\n",
    "    root = tree.getroot()\n",
    "    constants = {}\n",
    "    objects = [child for child in root if child.tag == 'object']\n",
    "    for element in tree.iter():\n",
    "        if element.tag == 'filename':\n",
    "            constants['file'] = element.text[0:-4]\n",
    "        if element.tag == 'size':\n",
    "            for dim in list(element):\n",
    "                if dim.tag == 'width':\n",
    "                    constants['width'] = int(dim.text)\n",
    "                if dim.tag == 'height':\n",
    "                    constants['height'] = int(dim.text)\n",
    "                if dim.tag == 'depth':\n",
    "                    constants['depth'] = int(dim.text)\n",
    "    object_params = [parse_annotation_object(obj) for obj in objects]\n",
    "    #print(constants)\n",
    "    full_result = [merge(constants,ob) for ob in object_params]\n",
    "    return full_result   \n",
    "\n",
    "\n",
    "def parse_annotation_object(annotation_object):\n",
    "    params = {}\n",
    "    for param in list(annotation_object):\n",
    "        if param.tag == 'name':\n",
    "            params['name'] = param.text\n",
    "        if param.tag == 'bndbox':\n",
    "            for coord in list(param):\n",
    "                if coord.tag == 'xmin':\n",
    "                    params['xmin'] = int(coord.text)              \n",
    "                if coord.tag == 'ymin':\n",
    "                    params['ymin'] = int(coord.text)\n",
    "                if coord.tag == 'xmax':\n",
    "                    params['xmax'] = int(coord.text)\n",
    "                if coord.tag == 'ymax':\n",
    "                    params['ymax'] = int(coord.text)\n",
    "            \n",
    "    return params       \n",
    " \n",
    "def merge(dict1, dict2):\n",
    "    res = {**dict1, **dict2}\n",
    "    return res"
   ]
  },
  {
   "cell_type": "code",
   "execution_count": 3,
   "id": "29c590ca",
   "metadata": {
    "execution": {
     "iopub.execute_input": "2023-07-31T22:45:36.808674Z",
     "iopub.status.busy": "2023-07-31T22:45:36.807818Z",
     "iopub.status.idle": "2023-07-31T22:45:39.774356Z",
     "shell.execute_reply": "2023-07-31T22:45:39.772353Z"
    },
    "papermill": {
     "duration": 2.983707,
     "end_time": "2023-07-31T22:45:39.777550",
     "exception": false,
     "start_time": "2023-07-31T22:45:36.793843",
     "status": "completed"
    },
    "tags": []
   },
   "outputs": [
    {
     "data": {
      "text/plain": [
       "(4072, 9)"
      ]
     },
     "execution_count": 3,
     "metadata": {},
     "output_type": "execute_result"
    }
   ],
   "source": [
    "dataset = [parse_annotation(anno) for anno in glob.glob(annotations_path+\"/*.xml\") ]\n",
    "\n",
    "full_dataset = sum(dataset, [])\n",
    "\n",
    "df = pd.DataFrame(full_dataset)\n",
    "df.shape"
   ]
  },
  {
   "cell_type": "code",
   "execution_count": 4,
   "id": "65449156",
   "metadata": {
    "execution": {
     "iopub.execute_input": "2023-07-31T22:45:39.809284Z",
     "iopub.status.busy": "2023-07-31T22:45:39.808835Z",
     "iopub.status.idle": "2023-07-31T22:45:39.834812Z",
     "shell.execute_reply": "2023-07-31T22:45:39.833613Z"
    },
    "papermill": {
     "duration": 0.043489,
     "end_time": "2023-07-31T22:45:39.837967",
     "exception": false,
     "start_time": "2023-07-31T22:45:39.794478",
     "status": "completed"
    },
    "tags": []
   },
   "outputs": [
    {
     "data": {
      "text/html": [
       "<div>\n",
       "<style scoped>\n",
       "    .dataframe tbody tr th:only-of-type {\n",
       "        vertical-align: middle;\n",
       "    }\n",
       "\n",
       "    .dataframe tbody tr th {\n",
       "        vertical-align: top;\n",
       "    }\n",
       "\n",
       "    .dataframe thead th {\n",
       "        text-align: right;\n",
       "    }\n",
       "</style>\n",
       "<table border=\"1\" class=\"dataframe\">\n",
       "  <thead>\n",
       "    <tr style=\"text-align: right;\">\n",
       "      <th></th>\n",
       "      <th>file</th>\n",
       "      <th>width</th>\n",
       "      <th>height</th>\n",
       "      <th>depth</th>\n",
       "      <th>name</th>\n",
       "      <th>xmin</th>\n",
       "      <th>ymin</th>\n",
       "      <th>xmax</th>\n",
       "      <th>ymax</th>\n",
       "    </tr>\n",
       "  </thead>\n",
       "  <tbody>\n",
       "    <tr>\n",
       "      <th>0</th>\n",
       "      <td>maksssksksss737</td>\n",
       "      <td>400</td>\n",
       "      <td>226</td>\n",
       "      <td>3</td>\n",
       "      <td>with_mask</td>\n",
       "      <td>28</td>\n",
       "      <td>55</td>\n",
       "      <td>46</td>\n",
       "      <td>71</td>\n",
       "    </tr>\n",
       "    <tr>\n",
       "      <th>1</th>\n",
       "      <td>maksssksksss737</td>\n",
       "      <td>400</td>\n",
       "      <td>226</td>\n",
       "      <td>3</td>\n",
       "      <td>with_mask</td>\n",
       "      <td>98</td>\n",
       "      <td>62</td>\n",
       "      <td>111</td>\n",
       "      <td>78</td>\n",
       "    </tr>\n",
       "    <tr>\n",
       "      <th>2</th>\n",
       "      <td>maksssksksss737</td>\n",
       "      <td>400</td>\n",
       "      <td>226</td>\n",
       "      <td>3</td>\n",
       "      <td>mask_weared_incorrect</td>\n",
       "      <td>159</td>\n",
       "      <td>50</td>\n",
       "      <td>193</td>\n",
       "      <td>90</td>\n",
       "    </tr>\n",
       "    <tr>\n",
       "      <th>3</th>\n",
       "      <td>maksssksksss737</td>\n",
       "      <td>400</td>\n",
       "      <td>226</td>\n",
       "      <td>3</td>\n",
       "      <td>with_mask</td>\n",
       "      <td>293</td>\n",
       "      <td>59</td>\n",
       "      <td>313</td>\n",
       "      <td>80</td>\n",
       "    </tr>\n",
       "    <tr>\n",
       "      <th>4</th>\n",
       "      <td>maksssksksss737</td>\n",
       "      <td>400</td>\n",
       "      <td>226</td>\n",
       "      <td>3</td>\n",
       "      <td>with_mask</td>\n",
       "      <td>352</td>\n",
       "      <td>51</td>\n",
       "      <td>372</td>\n",
       "      <td>72</td>\n",
       "    </tr>\n",
       "  </tbody>\n",
       "</table>\n",
       "</div>"
      ],
      "text/plain": [
       "              file  width  height  depth                   name  xmin  ymin  \\\n",
       "0  maksssksksss737    400     226      3              with_mask    28    55   \n",
       "1  maksssksksss737    400     226      3              with_mask    98    62   \n",
       "2  maksssksksss737    400     226      3  mask_weared_incorrect   159    50   \n",
       "3  maksssksksss737    400     226      3              with_mask   293    59   \n",
       "4  maksssksksss737    400     226      3              with_mask   352    51   \n",
       "\n",
       "   xmax  ymax  \n",
       "0    46    71  \n",
       "1   111    78  \n",
       "2   193    90  \n",
       "3   313    80  \n",
       "4   372    72  "
      ]
     },
     "execution_count": 4,
     "metadata": {},
     "output_type": "execute_result"
    }
   ],
   "source": [
    "df.head()"
   ]
  },
  {
   "cell_type": "code",
   "execution_count": 5,
   "id": "d8b79d54",
   "metadata": {
    "execution": {
     "iopub.execute_input": "2023-07-31T22:45:39.866687Z",
     "iopub.status.busy": "2023-07-31T22:45:39.865385Z",
     "iopub.status.idle": "2023-07-31T22:45:39.881037Z",
     "shell.execute_reply": "2023-07-31T22:45:39.879690Z"
    },
    "papermill": {
     "duration": 0.033375,
     "end_time": "2023-07-31T22:45:39.884452",
     "exception": false,
     "start_time": "2023-07-31T22:45:39.851077",
     "status": "completed"
    },
    "tags": []
   },
   "outputs": [],
   "source": [
    "final_test_image = 'maksssksksss0'\n",
    "df_final_test = df.loc[df[\"file\"] == final_test_image]\n",
    "#images.remove(f'{final_test_image}.png')\n",
    "df = df.loc[df[\"file\"] != final_test_image]"
   ]
  },
  {
   "cell_type": "code",
   "execution_count": 6,
   "id": "4e8f2c40",
   "metadata": {
    "execution": {
     "iopub.execute_input": "2023-07-31T22:45:39.915482Z",
     "iopub.status.busy": "2023-07-31T22:45:39.914974Z",
     "iopub.status.idle": "2023-07-31T22:45:39.940762Z",
     "shell.execute_reply": "2023-07-31T22:45:39.939313Z"
    },
    "papermill": {
     "duration": 0.043556,
     "end_time": "2023-07-31T22:45:39.943827",
     "exception": false,
     "start_time": "2023-07-31T22:45:39.900271",
     "status": "completed"
    },
    "tags": []
   },
   "outputs": [
    {
     "data": {
      "text/html": [
       "<div>\n",
       "<style scoped>\n",
       "    .dataframe tbody tr th:only-of-type {\n",
       "        vertical-align: middle;\n",
       "    }\n",
       "\n",
       "    .dataframe tbody tr th {\n",
       "        vertical-align: top;\n",
       "    }\n",
       "\n",
       "    .dataframe thead th {\n",
       "        text-align: right;\n",
       "    }\n",
       "</style>\n",
       "<table border=\"1\" class=\"dataframe\">\n",
       "  <thead>\n",
       "    <tr style=\"text-align: right;\">\n",
       "      <th></th>\n",
       "      <th>file</th>\n",
       "      <th>width</th>\n",
       "      <th>height</th>\n",
       "      <th>depth</th>\n",
       "      <th>name</th>\n",
       "      <th>xmin</th>\n",
       "      <th>ymin</th>\n",
       "      <th>xmax</th>\n",
       "      <th>ymax</th>\n",
       "    </tr>\n",
       "  </thead>\n",
       "  <tbody>\n",
       "    <tr>\n",
       "      <th>0</th>\n",
       "      <td>maksssksksss737</td>\n",
       "      <td>400</td>\n",
       "      <td>226</td>\n",
       "      <td>3</td>\n",
       "      <td>with_mask</td>\n",
       "      <td>28</td>\n",
       "      <td>55</td>\n",
       "      <td>46</td>\n",
       "      <td>71</td>\n",
       "    </tr>\n",
       "    <tr>\n",
       "      <th>1</th>\n",
       "      <td>maksssksksss737</td>\n",
       "      <td>400</td>\n",
       "      <td>226</td>\n",
       "      <td>3</td>\n",
       "      <td>with_mask</td>\n",
       "      <td>98</td>\n",
       "      <td>62</td>\n",
       "      <td>111</td>\n",
       "      <td>78</td>\n",
       "    </tr>\n",
       "    <tr>\n",
       "      <th>2</th>\n",
       "      <td>maksssksksss737</td>\n",
       "      <td>400</td>\n",
       "      <td>226</td>\n",
       "      <td>3</td>\n",
       "      <td>mask_weared_incorrect</td>\n",
       "      <td>159</td>\n",
       "      <td>50</td>\n",
       "      <td>193</td>\n",
       "      <td>90</td>\n",
       "    </tr>\n",
       "    <tr>\n",
       "      <th>3</th>\n",
       "      <td>maksssksksss737</td>\n",
       "      <td>400</td>\n",
       "      <td>226</td>\n",
       "      <td>3</td>\n",
       "      <td>with_mask</td>\n",
       "      <td>293</td>\n",
       "      <td>59</td>\n",
       "      <td>313</td>\n",
       "      <td>80</td>\n",
       "    </tr>\n",
       "    <tr>\n",
       "      <th>4</th>\n",
       "      <td>maksssksksss737</td>\n",
       "      <td>400</td>\n",
       "      <td>226</td>\n",
       "      <td>3</td>\n",
       "      <td>with_mask</td>\n",
       "      <td>352</td>\n",
       "      <td>51</td>\n",
       "      <td>372</td>\n",
       "      <td>72</td>\n",
       "    </tr>\n",
       "    <tr>\n",
       "      <th>...</th>\n",
       "      <td>...</td>\n",
       "      <td>...</td>\n",
       "      <td>...</td>\n",
       "      <td>...</td>\n",
       "      <td>...</td>\n",
       "      <td>...</td>\n",
       "      <td>...</td>\n",
       "      <td>...</td>\n",
       "      <td>...</td>\n",
       "    </tr>\n",
       "    <tr>\n",
       "      <th>4067</th>\n",
       "      <td>maksssksksss13</td>\n",
       "      <td>400</td>\n",
       "      <td>226</td>\n",
       "      <td>3</td>\n",
       "      <td>with_mask</td>\n",
       "      <td>229</td>\n",
       "      <td>53</td>\n",
       "      <td>241</td>\n",
       "      <td>72</td>\n",
       "    </tr>\n",
       "    <tr>\n",
       "      <th>4068</th>\n",
       "      <td>maksssksksss138</td>\n",
       "      <td>400</td>\n",
       "      <td>267</td>\n",
       "      <td>3</td>\n",
       "      <td>with_mask</td>\n",
       "      <td>51</td>\n",
       "      <td>144</td>\n",
       "      <td>128</td>\n",
       "      <td>239</td>\n",
       "    </tr>\n",
       "    <tr>\n",
       "      <th>4069</th>\n",
       "      <td>maksssksksss138</td>\n",
       "      <td>400</td>\n",
       "      <td>267</td>\n",
       "      <td>3</td>\n",
       "      <td>with_mask</td>\n",
       "      <td>147</td>\n",
       "      <td>169</td>\n",
       "      <td>217</td>\n",
       "      <td>233</td>\n",
       "    </tr>\n",
       "    <tr>\n",
       "      <th>4070</th>\n",
       "      <td>maksssksksss138</td>\n",
       "      <td>400</td>\n",
       "      <td>267</td>\n",
       "      <td>3</td>\n",
       "      <td>with_mask</td>\n",
       "      <td>224</td>\n",
       "      <td>92</td>\n",
       "      <td>309</td>\n",
       "      <td>186</td>\n",
       "    </tr>\n",
       "    <tr>\n",
       "      <th>4071</th>\n",
       "      <td>maksssksksss212</td>\n",
       "      <td>267</td>\n",
       "      <td>400</td>\n",
       "      <td>3</td>\n",
       "      <td>with_mask</td>\n",
       "      <td>115</td>\n",
       "      <td>75</td>\n",
       "      <td>169</td>\n",
       "      <td>135</td>\n",
       "    </tr>\n",
       "  </tbody>\n",
       "</table>\n",
       "<p>4069 rows × 9 columns</p>\n",
       "</div>"
      ],
      "text/plain": [
       "                 file  width  height  depth                   name  xmin  \\\n",
       "0     maksssksksss737    400     226      3              with_mask    28   \n",
       "1     maksssksksss737    400     226      3              with_mask    98   \n",
       "2     maksssksksss737    400     226      3  mask_weared_incorrect   159   \n",
       "3     maksssksksss737    400     226      3              with_mask   293   \n",
       "4     maksssksksss737    400     226      3              with_mask   352   \n",
       "...               ...    ...     ...    ...                    ...   ...   \n",
       "4067   maksssksksss13    400     226      3              with_mask   229   \n",
       "4068  maksssksksss138    400     267      3              with_mask    51   \n",
       "4069  maksssksksss138    400     267      3              with_mask   147   \n",
       "4070  maksssksksss138    400     267      3              with_mask   224   \n",
       "4071  maksssksksss212    267     400      3              with_mask   115   \n",
       "\n",
       "      ymin  xmax  ymax  \n",
       "0       55    46    71  \n",
       "1       62   111    78  \n",
       "2       50   193    90  \n",
       "3       59   313    80  \n",
       "4       51   372    72  \n",
       "...    ...   ...   ...  \n",
       "4067    53   241    72  \n",
       "4068   144   128   239  \n",
       "4069   169   217   233  \n",
       "4070    92   309   186  \n",
       "4071    75   169   135  \n",
       "\n",
       "[4069 rows x 9 columns]"
      ]
     },
     "execution_count": 6,
     "metadata": {},
     "output_type": "execute_result"
    }
   ],
   "source": [
    "df"
   ]
  },
  {
   "cell_type": "code",
   "execution_count": 7,
   "id": "5ab6d329",
   "metadata": {
    "execution": {
     "iopub.execute_input": "2023-07-31T22:45:39.973061Z",
     "iopub.status.busy": "2023-07-31T22:45:39.972613Z",
     "iopub.status.idle": "2023-07-31T22:45:39.987509Z",
     "shell.execute_reply": "2023-07-31T22:45:39.986231Z"
    },
    "papermill": {
     "duration": 0.03271,
     "end_time": "2023-07-31T22:45:39.990339",
     "exception": false,
     "start_time": "2023-07-31T22:45:39.957629",
     "status": "completed"
    },
    "tags": []
   },
   "outputs": [
    {
     "data": {
      "text/plain": [
       "with_mask                3231\n",
       "without_mask              715\n",
       "mask_weared_incorrect     123\n",
       "Name: name, dtype: int64"
      ]
     },
     "execution_count": 7,
     "metadata": {},
     "output_type": "execute_result"
    }
   ],
   "source": [
    "df[\"name\"].value_counts()"
   ]
  },
  {
   "cell_type": "code",
   "execution_count": 8,
   "id": "9e5d8055",
   "metadata": {
    "execution": {
     "iopub.execute_input": "2023-07-31T22:45:40.020776Z",
     "iopub.status.busy": "2023-07-31T22:45:40.019937Z",
     "iopub.status.idle": "2023-07-31T22:45:40.313691Z",
     "shell.execute_reply": "2023-07-31T22:45:40.312433Z"
    },
    "papermill": {
     "duration": 0.311789,
     "end_time": "2023-07-31T22:45:40.316630",
     "exception": false,
     "start_time": "2023-07-31T22:45:40.004841",
     "status": "completed"
    },
    "tags": []
   },
   "outputs": [
    {
     "data": {
      "text/plain": [
       "Text(0, 0.5, 'name')"
      ]
     },
     "execution_count": 8,
     "metadata": {},
     "output_type": "execute_result"
    },
    {
     "data": {
      "image/png": "[encoded data removed]",
      "text/plain": [
       "<Figure size 432x288 with 1 Axes>"
      ]
     },
     "metadata": {
      "needs_background": "light"
     },
     "output_type": "display_data"
    }
   ],
   "source": [
    "df[\"name\"].value_counts().plot(kind='barh')\n",
    "plt.xlabel('Count', fontsize = 10, fontweight = 'bold')\n",
    "plt.ylabel('name', fontsize = 10, fontweight = 'bold')"
   ]
  },
  {
   "cell_type": "code",
   "execution_count": 9,
   "id": "007d66c8",
   "metadata": {
    "execution": {
     "iopub.execute_input": "2023-07-31T22:45:40.347737Z",
     "iopub.status.busy": "2023-07-31T22:45:40.347301Z",
     "iopub.status.idle": "2023-07-31T22:45:40.357266Z",
     "shell.execute_reply": "2023-07-31T22:45:40.356274Z"
    },
    "papermill": {
     "duration": 0.027973,
     "end_time": "2023-07-31T22:45:40.359760",
     "exception": false,
     "start_time": "2023-07-31T22:45:40.331787",
     "status": "completed"
    },
    "tags": []
   },
   "outputs": [],
   "source": [
    "labels = df['name'].unique()\n",
    "directory = ['train', 'test', 'val']\n",
    "output_data_path =  '.'\n",
    "\n",
    "import os\n",
    "for label in labels:\n",
    "    for d in directory:\n",
    "        path = os.path.join(output_data_path, d, label)\n",
    "        if not os.path.exists(path):\n",
    "            os.makedirs(path)"
   ]
  },
  {
   "cell_type": "code",
   "execution_count": 10,
   "id": "3dc59a99",
   "metadata": {
    "execution": {
     "iopub.execute_input": "2023-07-31T22:45:40.389973Z",
     "iopub.status.busy": "2023-07-31T22:45:40.389498Z",
     "iopub.status.idle": "2023-07-31T22:45:40.397371Z",
     "shell.execute_reply": "2023-07-31T22:45:40.395947Z"
    },
    "papermill": {
     "duration": 0.026266,
     "end_time": "2023-07-31T22:45:40.400259",
     "exception": false,
     "start_time": "2023-07-31T22:45:40.373993",
     "status": "completed"
    },
    "tags": []
   },
   "outputs": [],
   "source": [
    "def crop_img(image_path, x_min, y_min, x_max, y_max):\n",
    "    x_shift = (x_max - x_min) * 0.1\n",
    "    y_shift = (y_max - y_min) * 0.1\n",
    "    img = Image.open(image_path)\n",
    "    cropped = img.crop((x_min - x_shift, y_min - y_shift, x_max + x_shift, y_max + y_shift))\n",
    "    return cropped"
   ]
  },
  {
   "cell_type": "code",
   "execution_count": 11,
   "id": "9505ff12",
   "metadata": {
    "execution": {
     "iopub.execute_input": "2023-07-31T22:45:40.431167Z",
     "iopub.status.busy": "2023-07-31T22:45:40.430720Z",
     "iopub.status.idle": "2023-07-31T22:45:40.439824Z",
     "shell.execute_reply": "2023-07-31T22:45:40.438326Z"
    },
    "papermill": {
     "duration": 0.027844,
     "end_time": "2023-07-31T22:45:40.442560",
     "exception": false,
     "start_time": "2023-07-31T22:45:40.414716",
     "status": "completed"
    },
    "tags": []
   },
   "outputs": [],
   "source": [
    "def extract_faces(image_name, image_info):\n",
    "    faces = []\n",
    "    df_one_img = image_info[image_info['file'] == image_name[:-4]][['xmin', 'ymin', 'xmax', 'ymax', 'name']]\n",
    "    for row_num in range(len(df_one_img)):\n",
    "        x_min, y_min, x_max, y_max, label = df_one_img.iloc[row_num] \n",
    "        image_path = os.path.join(input_data_path, image_name)\n",
    "        faces.append((crop_img(image_path, x_min, y_min, x_max, y_max), label,f'{image_name[:-4]}_{(x_min, y_min)}'))\n",
    "    return faces"
   ]
  },
  {
   "cell_type": "code",
   "execution_count": 12,
   "id": "7f1dd87e",
   "metadata": {
    "execution": {
     "iopub.execute_input": "2023-07-31T22:45:40.473707Z",
     "iopub.status.busy": "2023-07-31T22:45:40.473261Z",
     "iopub.status.idle": "2023-07-31T22:46:59.237687Z",
     "shell.execute_reply": "2023-07-31T22:46:59.236431Z"
    },
    "papermill": {
     "duration": 78.78372,
     "end_time": "2023-07-31T22:46:59.240839",
     "exception": false,
     "start_time": "2023-07-31T22:45:40.457119",
     "status": "completed"
    },
    "tags": []
   },
   "outputs": [],
   "source": [
    "cropped_faces = [extract_faces(img, df) for img in images]"
   ]
  },
  {
   "cell_type": "code",
   "execution_count": 13,
   "id": "6dec6aac",
   "metadata": {
    "execution": {
     "iopub.execute_input": "2023-07-31T22:46:59.271526Z",
     "iopub.status.busy": "2023-07-31T22:46:59.271060Z",
     "iopub.status.idle": "2023-07-31T22:46:59.288668Z",
     "shell.execute_reply": "2023-07-31T22:46:59.287362Z"
    },
    "papermill": {
     "duration": 0.035919,
     "end_time": "2023-07-31T22:46:59.291432",
     "exception": false,
     "start_time": "2023-07-31T22:46:59.255513",
     "status": "completed"
    },
    "tags": []
   },
   "outputs": [],
   "source": [
    "flat_cropped_faces = sum(cropped_faces, [])"
   ]
  },
  {
   "cell_type": "code",
   "execution_count": 14,
   "id": "2efbcf63",
   "metadata": {
    "execution": {
     "iopub.execute_input": "2023-07-31T22:46:59.321446Z",
     "iopub.status.busy": "2023-07-31T22:46:59.320999Z",
     "iopub.status.idle": "2023-07-31T22:46:59.332834Z",
     "shell.execute_reply": "2023-07-31T22:46:59.331425Z"
    },
    "papermill": {
     "duration": 0.029992,
     "end_time": "2023-07-31T22:46:59.335420",
     "exception": false,
     "start_time": "2023-07-31T22:46:59.305428",
     "status": "completed"
    },
    "tags": []
   },
   "outputs": [],
   "source": [
    "with_mask = [(img, image_name) for img, label,image_name in flat_cropped_faces if label == \"with_mask\"]\n",
    "mask_weared_incorrect = [(img, image_name) for img, label,image_name in flat_cropped_faces if label == \"mask_weared_incorrect\"]\n",
    "without_mask = [(img, image_name) for img, label,image_name in flat_cropped_faces if label == \"without_mask\"]"
   ]
  },
  {
   "cell_type": "code",
   "execution_count": 15,
   "id": "66e56055",
   "metadata": {
    "execution": {
     "iopub.execute_input": "2023-07-31T22:46:59.366216Z",
     "iopub.status.busy": "2023-07-31T22:46:59.365049Z",
     "iopub.status.idle": "2023-07-31T22:46:59.372951Z",
     "shell.execute_reply": "2023-07-31T22:46:59.371581Z"
    },
    "papermill": {
     "duration": 0.026342,
     "end_time": "2023-07-31T22:46:59.375729",
     "exception": false,
     "start_time": "2023-07-31T22:46:59.349387",
     "status": "completed"
    },
    "tags": []
   },
   "outputs": [
    {
     "name": "stdout",
     "output_type": "stream",
     "text": [
      "3231\n",
      "715\n",
      "123\n",
      "4069\n"
     ]
    }
   ],
   "source": [
    "print(len(with_mask))\n",
    "print(len(without_mask))\n",
    "print(len(mask_weared_incorrect))\n",
    "print(len(with_mask) + len(without_mask) + len(mask_weared_incorrect))"
   ]
  },
  {
   "cell_type": "code",
   "execution_count": 16,
   "id": "20b8f709",
   "metadata": {
    "execution": {
     "iopub.execute_input": "2023-07-31T22:46:59.407176Z",
     "iopub.status.busy": "2023-07-31T22:46:59.406024Z",
     "iopub.status.idle": "2023-07-31T22:46:59.421949Z",
     "shell.execute_reply": "2023-07-31T22:46:59.420719Z"
    },
    "papermill": {
     "duration": 0.034622,
     "end_time": "2023-07-31T22:46:59.425002",
     "exception": false,
     "start_time": "2023-07-31T22:46:59.390380",
     "status": "completed"
    },
    "tags": []
   },
   "outputs": [],
   "source": [
    "train_with_mask, test_with_mask = train_test_split(with_mask, test_size=0.20, random_state=42)\n",
    "test_with_mask, val_with_mask = train_test_split(test_with_mask, test_size=0.7, random_state=42)\n",
    "\n",
    "train_mask_weared_incorrect, test_mask_weared_incorrect = train_test_split(mask_weared_incorrect, test_size=0.20, random_state=42)\n",
    "test_mask_weared_incorrect, val_mask_weared_incorrect = train_test_split(test_mask_weared_incorrect, test_size=0.7, random_state=42)\n",
    "\n",
    "train_without_mask, test_without_mask = train_test_split(without_mask, test_size=0.20, random_state=42)\n",
    "test_without_mask, val_without_mask = train_test_split(test_without_mask, test_size=0.7, random_state=42)"
   ]
  },
  {
   "cell_type": "code",
   "execution_count": 17,
   "id": "3628ea25",
   "metadata": {
    "execution": {
     "iopub.execute_input": "2023-07-31T22:46:59.455166Z",
     "iopub.status.busy": "2023-07-31T22:46:59.454755Z",
     "iopub.status.idle": "2023-07-31T22:46:59.461047Z",
     "shell.execute_reply": "2023-07-31T22:46:59.459657Z"
    },
    "papermill": {
     "duration": 0.024896,
     "end_time": "2023-07-31T22:46:59.463957",
     "exception": false,
     "start_time": "2023-07-31T22:46:59.439061",
     "status": "completed"
    },
    "tags": []
   },
   "outputs": [],
   "source": [
    "def save_image(image, image_name, output_data_path,  dataset_type, label):\n",
    "    output_path = os.path.join(output_data_path, dataset_type, label ,f'{image_name}.png')\n",
    "    image.save(output_path)  "
   ]
  },
  {
   "cell_type": "code",
   "execution_count": 18,
   "id": "2db28fd9",
   "metadata": {
    "execution": {
     "iopub.execute_input": "2023-07-31T22:46:59.494836Z",
     "iopub.status.busy": "2023-07-31T22:46:59.494359Z",
     "iopub.status.idle": "2023-07-31T22:47:07.643554Z",
     "shell.execute_reply": "2023-07-31T22:47:07.642408Z"
    },
    "papermill": {
     "duration": 8.167976,
     "end_time": "2023-07-31T22:47:07.646507",
     "exception": false,
     "start_time": "2023-07-31T22:46:59.478531",
     "status": "completed"
    },
    "tags": []
   },
   "outputs": [],
   "source": [
    "for image, image_name in train_with_mask:\n",
    "    save_image(image, image_name, output_data_path, 'train', 'with_mask')\n",
    "\n",
    "for image, image_name in train_mask_weared_incorrect:\n",
    "    save_image(image, image_name, output_data_path, 'train', 'mask_weared_incorrect')\n",
    "\n",
    "for image, image_name in train_without_mask:\n",
    "    save_image(image, image_name, output_data_path, 'train', 'without_mask')\n",
    "\n",
    "for image, image_name in test_with_mask:\n",
    "    save_image(image, image_name, output_data_path, 'test', 'with_mask')\n",
    "\n",
    "for image, image_name in test_mask_weared_incorrect:\n",
    "    save_image(image, image_name, output_data_path, 'test', 'mask_weared_incorrect')\n",
    "\n",
    "for image, image_name in test_without_mask:\n",
    "    save_image(image, image_name, output_data_path, 'test', 'without_mask')\n",
    "        \n",
    "for image, image_name in val_with_mask:\n",
    "    save_image(image, image_name, output_data_path, 'val', 'with_mask')\n",
    "\n",
    "for image, image_name in val_without_mask:\n",
    "    save_image(image, image_name, output_data_path, 'val', 'without_mask')\n",
    "\n",
    "for image, image_name in val_mask_weared_incorrect:\n",
    "    save_image(image, image_name, output_data_path, 'val', 'mask_weared_incorrect')"
   ]
  },
  {
   "cell_type": "code",
   "execution_count": 19,
   "id": "00757545",
   "metadata": {
    "execution": {
     "iopub.execute_input": "2023-07-31T22:47:07.677545Z",
     "iopub.status.busy": "2023-07-31T22:47:07.676597Z",
     "iopub.status.idle": "2023-07-31T22:47:07.882059Z",
     "shell.execute_reply": "2023-07-31T22:47:07.880558Z"
    },
    "papermill": {
     "duration": 0.223897,
     "end_time": "2023-07-31T22:47:07.885029",
     "exception": false,
     "start_time": "2023-07-31T22:47:07.661132",
     "status": "completed"
    },
    "tags": []
   },
   "outputs": [
    {
     "name": "stdout",
     "output_type": "stream",
     "text": [
      "Model: \"sequential\"\n",
      "_________________________________________________________________\n",
      "Layer (type)                 Output Shape              Param #   \n",
      "=================================================================\n",
      "conv2d (Conv2D)              (None, 35, 35, 16)        448       \n",
      "_________________________________________________________________\n",
      "max_pooling2d (MaxPooling2D) (None, 17, 17, 16)        0         \n",
      "_________________________________________________________________\n",
      "conv2d_1 (Conv2D)            (None, 17, 17, 32)        4640      \n",
      "_________________________________________________________________\n",
      "max_pooling2d_1 (MaxPooling2 (None, 8, 8, 32)          0         \n",
      "_________________________________________________________________\n",
      "conv2d_2 (Conv2D)            (None, 8, 8, 64)          18496     \n",
      "_________________________________________________________________\n",
      "max_pooling2d_2 (MaxPooling2 (None, 4, 4, 64)          0         \n",
      "_________________________________________________________________\n",
      "dropout (Dropout)            (None, 4, 4, 64)          0         \n",
      "_________________________________________________________________\n",
      "flatten (Flatten)            (None, 1024)              0         \n",
      "_________________________________________________________________\n",
      "dense (Dense)                (None, 500)               512500    \n",
      "_________________________________________________________________\n",
      "dropout_1 (Dropout)          (None, 500)               0         \n",
      "_________________________________________________________________\n",
      "dense_1 (Dense)              (None, 3)                 1503      \n",
      "=================================================================\n",
      "Total params: 537,587\n",
      "Trainable params: 537,587\n",
      "Non-trainable params: 0\n",
      "_________________________________________________________________\n"
     ]
    }
   ],
   "source": [
    "model = Sequential()\n",
    "model.add(Conv2D(filters = 16, kernel_size = 3,  padding='same', activation = 'relu', input_shape = (35,35,3)))\n",
    "model.add(MaxPooling2D(pool_size = 2))\n",
    "model.add(Conv2D(filters = 32, kernel_size = 3,  padding='same', activation = 'relu'))\n",
    "model.add(MaxPooling2D(pool_size = 2))\n",
    "model.add(Conv2D(filters = 64, kernel_size = 3,  padding='same', activation = 'relu'))\n",
    "model.add(MaxPooling2D(pool_size = 2))\n",
    "model.add(Dropout(0.3))\n",
    "model.add(Flatten())\n",
    "model.add(Dense(units = 500, activation = 'relu'))\n",
    "model.add(Dropout(0.3))\n",
    "model.add(Dense(units = 3, activation = 'softmax'))\n",
    "\n",
    "model.summary()\n"
   ]
  },
  {
   "cell_type": "code",
   "execution_count": 20,
   "id": "e3c5679a",
   "metadata": {
    "execution": {
     "iopub.execute_input": "2023-07-31T22:47:07.915714Z",
     "iopub.status.busy": "2023-07-31T22:47:07.915253Z",
     "iopub.status.idle": "2023-07-31T22:47:08.245424Z",
     "shell.execute_reply": "2023-07-31T22:47:08.244125Z"
    },
    "papermill": {
     "duration": 0.348947,
     "end_time": "2023-07-31T22:47:08.248541",
     "exception": false,
     "start_time": "2023-07-31T22:47:07.899594",
     "status": "completed"
    },
    "tags": []
   },
   "outputs": [
    {
     "name": "stdout",
     "output_type": "stream",
     "text": [
      "Found 3254 images belonging to 3 classes.\n",
      "Found 572 images belonging to 3 classes.\n",
      "Found 243 images belonging to 3 classes.\n"
     ]
    }
   ],
   "source": [
    "batch_size = 8\n",
    "epochs = 50\n",
    "\n",
    "datagen = ImageDataGenerator(\n",
    "    rescale=1.0 / 255, horizontal_flip=True, zoom_range=0.1, shear_range=0.2, width_shift_range=0.1,\n",
    "    height_shift_range=0.1, rotation_range=4, vertical_flip=False\n",
    "\n",
    ")\n",
    "\n",
    "val_datagen = ImageDataGenerator(\n",
    "    rescale=1.0 / 255\n",
    ")\n",
    " \n",
    "\n",
    "train_generator = datagen.flow_from_directory(\n",
    "    directory='/kaggle/working/train', \n",
    "    target_size = (35,35),\n",
    "    class_mode=\"categorical\", batch_size=batch_size, shuffle=True\n",
    "\n",
    ")\n",
    "\n",
    "# Validation data\n",
    "val_generator = val_datagen.flow_from_directory(\n",
    "    directory='/kaggle/working/val', \n",
    "    target_size = (35,35),\n",
    "    class_mode=\"categorical\", batch_size=batch_size, shuffle=True\n",
    ")\n",
    "\n",
    "# Test data\n",
    "test_generator = val_datagen.flow_from_directory(\n",
    "    directory='/kaggle/working/test', \n",
    "    target_size = (35,35),\n",
    "    class_mode=\"categorical\", batch_size=batch_size, shuffle=False\n",
    ")\n"
   ]
  },
  {
   "cell_type": "code",
   "execution_count": 21,
   "id": "88927af8",
   "metadata": {
    "execution": {
     "iopub.execute_input": "2023-07-31T22:47:08.279550Z",
     "iopub.status.busy": "2023-07-31T22:47:08.279079Z",
     "iopub.status.idle": "2023-07-31T22:47:08.286257Z",
     "shell.execute_reply": "2023-07-31T22:47:08.285255Z"
    },
    "papermill": {
     "duration": 0.025121,
     "end_time": "2023-07-31T22:47:08.288569",
     "exception": false,
     "start_time": "2023-07-31T22:47:08.263448",
     "status": "completed"
    },
    "tags": []
   },
   "outputs": [
    {
     "name": "stdout",
     "output_type": "stream",
     "text": [
      "steps_per_epoch: 50\n",
      "val_steps: 9\n"
     ]
    }
   ],
   "source": [
    "data_size = len(train_generator)\n",
    "\n",
    "steps_per_epoch = int(data_size / batch_size)\n",
    "print(f\"steps_per_epoch: {steps_per_epoch}\")\n",
    "\n",
    "val_steps = int(len(val_generator) // batch_size)\n",
    "print(f\"val_steps: {val_steps}\")"
   ]
  },
  {
   "cell_type": "code",
   "execution_count": 22,
   "id": "80770c63",
   "metadata": {
    "execution": {
     "iopub.execute_input": "2023-07-31T22:47:08.320607Z",
     "iopub.status.busy": "2023-07-31T22:47:08.319857Z",
     "iopub.status.idle": "2023-07-31T22:47:08.336646Z",
     "shell.execute_reply": "2023-07-31T22:47:08.335236Z"
    },
    "papermill": {
     "duration": 0.036408,
     "end_time": "2023-07-31T22:47:08.339823",
     "exception": false,
     "start_time": "2023-07-31T22:47:08.303415",
     "status": "completed"
    },
    "tags": []
   },
   "outputs": [],
   "source": [
    "model.compile(\n",
    "    optimizer=\"adam\",\n",
    "    loss=\"categorical_crossentropy\",\n",
    "    metrics=['accuracy', 'Recall', 'Precision', 'AUC']\n",
    ")"
   ]
  },
  {
   "cell_type": "code",
   "execution_count": 23,
   "id": "b6b6840b",
   "metadata": {
    "execution": {
     "iopub.execute_input": "2023-07-31T22:47:08.370965Z",
     "iopub.status.busy": "2023-07-31T22:47:08.370488Z",
     "iopub.status.idle": "2023-07-31T22:47:08.376357Z",
     "shell.execute_reply": "2023-07-31T22:47:08.375306Z"
    },
    "papermill": {
     "duration": 0.024597,
     "end_time": "2023-07-31T22:47:08.378993",
     "exception": false,
     "start_time": "2023-07-31T22:47:08.354396",
     "status": "completed"
    },
    "tags": []
   },
   "outputs": [],
   "source": [
    "early_stopping = EarlyStopping(monitor='val_loss', patience=8, restore_best_weights=True)"
   ]
  },
  {
   "cell_type": "code",
   "execution_count": 24,
   "id": "6276f493",
   "metadata": {
    "execution": {
     "iopub.execute_input": "2023-07-31T22:47:08.410303Z",
     "iopub.status.busy": "2023-07-31T22:47:08.409456Z",
     "iopub.status.idle": "2023-07-31T22:47:08.414625Z",
     "shell.execute_reply": "2023-07-31T22:47:08.413748Z"
    },
    "papermill": {
     "duration": 0.023393,
     "end_time": "2023-07-31T22:47:08.417035",
     "exception": false,
     "start_time": "2023-07-31T22:47:08.393642",
     "status": "completed"
    },
    "tags": []
   },
   "outputs": [],
   "source": [
    "lrr = ReduceLROnPlateau(monitor='val_loss',patience=8,verbose=1,factor=0.5, min_lr=0.00001)"
   ]
  },
  {
   "cell_type": "code",
   "execution_count": 25,
   "id": "f59909bc",
   "metadata": {
    "execution": {
     "iopub.execute_input": "2023-07-31T22:47:08.448039Z",
     "iopub.status.busy": "2023-07-31T22:47:08.447270Z",
     "iopub.status.idle": "2023-07-31T22:47:29.339615Z",
     "shell.execute_reply": "2023-07-31T22:47:29.338264Z"
    },
    "papermill": {
     "duration": 20.910735,
     "end_time": "2023-07-31T22:47:29.342264",
     "exception": false,
     "start_time": "2023-07-31T22:47:08.431529",
     "status": "completed"
    },
    "tags": []
   },
   "outputs": [
    {
     "name": "stderr",
     "output_type": "stream",
     "text": [
      "/opt/conda/lib/python3.7/site-packages/keras/engine/training.py:1972: UserWarning: `Model.fit_generator` is deprecated and will be removed in a future version. Please use `Model.fit`, which supports generators.\n",
      "  warnings.warn('`Model.fit_generator` is deprecated and '\n"
     ]
    },
    {
     "name": "stdout",
     "output_type": "stream",
     "text": [
      "Epoch 1/50\n",
      "50/50 [==============================] - 4s 36ms/step - loss: 0.6494 - accuracy: 0.7600 - recall: 0.7400 - precision: 0.7769 - auc: 0.8857 - val_loss: 0.5577 - val_accuracy: 0.7917 - val_recall: 0.7917 - val_precision: 0.8028 - val_auc: 0.9216\n",
      "Epoch 2/50\n",
      "50/50 [==============================] - 1s 22ms/step - loss: 0.4623 - accuracy: 0.8250 - recall: 0.7800 - precision: 0.8548 - auc: 0.9431 - val_loss: 0.4347 - val_accuracy: 0.8472 - val_recall: 0.7361 - val_precision: 0.8548 - val_auc: 0.9491\n",
      "Epoch 3/50\n",
      "50/50 [==============================] - 1s 20ms/step - loss: 0.3604 - accuracy: 0.8875 - recall: 0.8675 - precision: 0.9036 - auc: 0.9674 - val_loss: 0.4475 - val_accuracy: 0.8333 - val_recall: 0.8056 - val_precision: 0.8286 - val_auc: 0.9446\n",
      "Epoch 4/50\n",
      "50/50 [==============================] - 1s 22ms/step - loss: 0.3614 - accuracy: 0.9050 - recall: 0.9000 - precision: 0.9114 - auc: 0.9656 - val_loss: 0.2093 - val_accuracy: 0.9444 - val_recall: 0.9028 - val_precision: 0.9420 - val_auc: 0.9897\n",
      "Epoch 5/50\n",
      "50/50 [==============================] - 1s 21ms/step - loss: 0.3735 - accuracy: 0.8950 - recall: 0.8775 - precision: 0.9000 - auc: 0.9631 - val_loss: 0.3754 - val_accuracy: 0.8472 - val_recall: 0.8472 - val_precision: 0.8714 - val_auc: 0.9674\n",
      "Epoch 6/50\n",
      "50/50 [==============================] - 1s 20ms/step - loss: 0.2490 - accuracy: 0.9125 - recall: 0.9075 - precision: 0.9167 - auc: 0.9818 - val_loss: 0.2395 - val_accuracy: 0.9306 - val_recall: 0.9306 - val_precision: 0.9437 - val_auc: 0.9858\n",
      "Epoch 7/50\n",
      "50/50 [==============================] - 2s 37ms/step - loss: 0.2632 - accuracy: 0.9300 - recall: 0.9200 - precision: 0.9340 - auc: 0.9771 - val_loss: 0.1349 - val_accuracy: 0.9444 - val_recall: 0.9444 - val_precision: 0.9444 - val_auc: 0.9959\n",
      "Epoch 8/50\n",
      "50/50 [==============================] - 1s 21ms/step - loss: 0.2539 - accuracy: 0.9250 - recall: 0.9225 - precision: 0.9295 - auc: 0.9800 - val_loss: 0.5382 - val_accuracy: 0.8472 - val_recall: 0.8472 - val_precision: 0.8472 - val_auc: 0.9603\n",
      "Epoch 9/50\n",
      "50/50 [==============================] - 1s 22ms/step - loss: 0.2987 - accuracy: 0.9221 - recall: 0.9095 - precision: 0.9235 - auc: 0.9749 - val_loss: 0.3190 - val_accuracy: 0.8333 - val_recall: 0.8194 - val_precision: 0.8676 - val_auc: 0.9741\n",
      "Epoch 10/50\n",
      "50/50 [==============================] - 1s 21ms/step - loss: 0.2961 - accuracy: 0.8975 - recall: 0.8925 - precision: 0.9130 - auc: 0.9732 - val_loss: 0.2568 - val_accuracy: 0.9306 - val_recall: 0.9167 - val_precision: 0.9296 - val_auc: 0.9828\n",
      "Epoch 11/50\n",
      "50/50 [==============================] - 1s 22ms/step - loss: 0.2260 - accuracy: 0.9350 - recall: 0.9300 - precision: 0.9442 - auc: 0.9835 - val_loss: 0.1478 - val_accuracy: 0.9583 - val_recall: 0.9583 - val_precision: 0.9583 - val_auc: 0.9947\n",
      "Epoch 12/50\n",
      "50/50 [==============================] - 1s 21ms/step - loss: 0.2654 - accuracy: 0.9100 - recall: 0.9075 - precision: 0.9167 - auc: 0.9797 - val_loss: 0.2395 - val_accuracy: 0.9167 - val_recall: 0.9028 - val_precision: 0.9286 - val_auc: 0.9842\n",
      "Epoch 13/50\n",
      "50/50 [==============================] - 1s 21ms/step - loss: 0.2275 - accuracy: 0.9425 - recall: 0.9275 - precision: 0.9488 - auc: 0.9830 - val_loss: 0.4108 - val_accuracy: 0.9028 - val_recall: 0.9028 - val_precision: 0.9028 - val_auc: 0.9697\n",
      "Epoch 14/50\n",
      "50/50 [==============================] - 1s 20ms/step - loss: 0.2190 - accuracy: 0.9500 - recall: 0.9450 - precision: 0.9497 - auc: 0.9825 - val_loss: 0.2815 - val_accuracy: 0.8889 - val_recall: 0.8611 - val_precision: 0.8986 - val_auc: 0.9789\n",
      "Epoch 15/50\n",
      "50/50 [==============================] - 1s 20ms/step - loss: 0.2083 - accuracy: 0.9400 - recall: 0.9350 - precision: 0.9468 - auc: 0.9828 - val_loss: 0.2581 - val_accuracy: 0.9028 - val_recall: 0.8889 - val_precision: 0.9014 - val_auc: 0.9852\n",
      "\n",
      "Epoch 00015: ReduceLROnPlateau reducing learning rate to 0.0005000000237487257.\n"
     ]
    }
   ],
   "source": [
    "model_history = model.fit_generator(\n",
    "    generator=train_generator,\n",
    "    steps_per_epoch=steps_per_epoch,\n",
    "    epochs=epochs,\n",
    "    shuffle=True,\n",
    "    validation_data=val_generator,\n",
    "    validation_steps=val_steps,\n",
    "    callbacks=[early_stopping, lrr]\n",
    ")"
   ]
  },
  {
   "cell_type": "code",
   "execution_count": 26,
   "id": "864146b0",
   "metadata": {
    "execution": {
     "iopub.execute_input": "2023-07-31T22:47:29.423381Z",
     "iopub.status.busy": "2023-07-31T22:47:29.421921Z",
     "iopub.status.idle": "2023-07-31T22:47:29.782464Z",
     "shell.execute_reply": "2023-07-31T22:47:29.781519Z"
    },
    "papermill": {
     "duration": 0.403332,
     "end_time": "2023-07-31T22:47:29.785158",
     "exception": false,
     "start_time": "2023-07-31T22:47:29.381826",
     "status": "completed"
    },
    "tags": []
   },
   "outputs": [
    {
     "name": "stdout",
     "output_type": "stream",
     "text": [
      "31/31 [==============================] - 0s 9ms/step - loss: 0.2269 - accuracy: 0.9177 - recall: 0.9177 - precision: 0.9253 - auc: 0.9833\n",
      "0.22690197825431824 || 91.76954627037048 || 91.76954627037048 || 92.53112077713013 || 98.33188652992249\n"
     ]
    }
   ],
   "source": [
    "model_loss, model_acc, recall, precision, auc = model.evaluate(test_generator)\n",
    "print(f'{model_loss} || {model_acc*100} || {recall*100} || {precision*100} || {auc*100}')"
   ]
  },
  {
   "cell_type": "code",
   "execution_count": 27,
   "id": "5a7a1d41",
   "metadata": {
    "execution": {
     "iopub.execute_input": "2023-07-31T22:47:29.865875Z",
     "iopub.status.busy": "2023-07-31T22:47:29.865422Z",
     "iopub.status.idle": "2023-07-31T22:47:30.319468Z",
     "shell.execute_reply": "2023-07-31T22:47:30.318176Z"
    },
    "papermill": {
     "duration": 0.498082,
     "end_time": "2023-07-31T22:47:30.322388",
     "exception": false,
     "start_time": "2023-07-31T22:47:29.824306",
     "status": "completed"
    },
    "tags": []
   },
   "outputs": [],
   "source": [
    "predictions = model.predict(test_generator)\n",
    "# predictions"
   ]
  },
  {
   "cell_type": "code",
   "execution_count": 28,
   "id": "119db61e",
   "metadata": {
    "execution": {
     "iopub.execute_input": "2023-07-31T22:47:30.407937Z",
     "iopub.status.busy": "2023-07-31T22:47:30.407236Z",
     "iopub.status.idle": "2023-07-31T22:47:30.415957Z",
     "shell.execute_reply": "2023-07-31T22:47:30.414614Z"
    },
    "papermill": {
     "duration": 0.056056,
     "end_time": "2023-07-31T22:47:30.419094",
     "exception": false,
     "start_time": "2023-07-31T22:47:30.363038",
     "status": "completed"
    },
    "tags": []
   },
   "outputs": [],
   "source": [
    "def plot_loss_and_accuracy(history):\n",
    "    history_df = pd.DataFrame(history)\n",
    "    fig, ax = plt.subplots(1, 2, figsize=(12, 6))\n",
    "    \n",
    "    history_df.loc[0:, ['loss', 'val_loss']].plot(ax=ax[0], color=['blue', 'red'])\n",
    "    ax[0].set(xlabel='epoch number', ylabel='loss')\n",
    "\n",
    "    history_df.loc[0:, ['accuracy', 'val_accuracy']].plot(ax=ax[1], color=['green', 'pink'])\n",
    "    ax[1].set(xlabel='epoch number', ylabel='accuracy')"
   ]
  },
  {
   "cell_type": "code",
   "execution_count": 29,
   "id": "52e769ca",
   "metadata": {
    "execution": {
     "iopub.execute_input": "2023-07-31T22:47:30.500345Z",
     "iopub.status.busy": "2023-07-31T22:47:30.499551Z",
     "iopub.status.idle": "2023-07-31T22:47:30.990015Z",
     "shell.execute_reply": "2023-07-31T22:47:30.988466Z"
    },
    "papermill": {
     "duration": 0.534539,
     "end_time": "2023-07-31T22:47:30.993152",
     "exception": false,
     "start_time": "2023-07-31T22:47:30.458613",
     "status": "completed"
    },
    "tags": []
   },
   "outputs": [
    {
     "data": {
      "image/png": "[encoded data removed]",
      "text/plain": [
       "<Figure size 864x432 with 2 Axes>"
      ]
     },
     "metadata": {
      "needs_background": "light"
     },
     "output_type": "display_data"
    }
   ],
   "source": [
    "plot_loss_and_accuracy(model_history.history)"
   ]
  },
  {
   "cell_type": "code",
   "execution_count": 30,
   "id": "786b87e2",
   "metadata": {
    "execution": {
     "iopub.execute_input": "2023-07-31T22:47:31.075832Z",
     "iopub.status.busy": "2023-07-31T22:47:31.075399Z",
     "iopub.status.idle": "2023-07-31T22:47:31.886096Z",
     "shell.execute_reply": "2023-07-31T22:47:31.884853Z"
    },
    "papermill": {
     "duration": 0.854649,
     "end_time": "2023-07-31T22:47:31.888749",
     "exception": false,
     "start_time": "2023-07-31T22:47:31.034100",
     "status": "completed"
    },
    "tags": []
   },
   "outputs": [
    {
     "name": "stdout",
     "output_type": "stream",
     "text": [
      "with_mask || with_mask\n"
     ]
    },
    {
     "data": {
      "image/png": "[encoded data removed]",
      "text/plain": [
       "<Figure size 432x288 with 1 Axes>"
      ]
     },
     "metadata": {
      "needs_background": "light"
     },
     "output_type": "display_data"
    }
   ],
   "source": [
    "paths = test_generator.filenames\n",
    "y_pred = model.predict(test_generator).argmax(axis=1)\n",
    "classes = test_generator.class_indices\n",
    "\n",
    "a_img_rand = np.random.randint(0,len(paths))\n",
    "img = cv2.imread(os.path.join(output_data_path,'test', paths[a_img_rand]))      \n",
    "colored_img = cv2.cvtColor(img, cv2.COLOR_RGB2BGR)\n",
    "\n",
    "plt.imshow(colored_img)\n",
    "true_label = paths[a_img_rand].split('/')[0]\n",
    "predicted_label = list(classes)[y_pred[a_img_rand]]\n",
    "print(f'{predicted_label} || {true_label}')"
   ]
  },
  {
   "cell_type": "code",
   "execution_count": 31,
   "id": "48fb19c5",
   "metadata": {
    "execution": {
     "iopub.execute_input": "2023-07-31T22:47:31.973833Z",
     "iopub.status.busy": "2023-07-31T22:47:31.973315Z",
     "iopub.status.idle": "2023-07-31T22:47:31.981713Z",
     "shell.execute_reply": "2023-07-31T22:47:31.980047Z"
    },
    "papermill": {
     "duration": 0.053867,
     "end_time": "2023-07-31T22:47:31.984515",
     "exception": false,
     "start_time": "2023-07-31T22:47:31.930648",
     "status": "completed"
    },
    "tags": []
   },
   "outputs": [],
   "source": [
    "def evaluation(y, y_hat, title = 'Confusion Matrix'):\n",
    "    cm = confusion_matrix(y, y_hat)\n",
    "    sns.heatmap(cm,  cmap= 'PuBu', annot=True, fmt='g', annot_kws={'size':20})\n",
    "    plt.xlabel('predicted', fontsize=18)\n",
    "    plt.ylabel('actual', fontsize=18)\n",
    "    plt.title(title, fontsize=18)\n",
    "    \n",
    "    plt.show()"
   ]
  },
  {
   "cell_type": "code",
   "execution_count": 32,
   "id": "aa21b602",
   "metadata": {
    "execution": {
     "iopub.execute_input": "2023-07-31T22:47:32.068140Z",
     "iopub.status.busy": "2023-07-31T22:47:32.067686Z",
     "iopub.status.idle": "2023-07-31T22:47:32.680372Z",
     "shell.execute_reply": "2023-07-31T22:47:32.678890Z"
    },
    "papermill": {
     "duration": 0.657958,
     "end_time": "2023-07-31T22:47:32.683571",
     "exception": false,
     "start_time": "2023-07-31T22:47:32.025613",
     "status": "completed"
    },
    "tags": []
   },
   "outputs": [
    {
     "data": {
      "image/png": "[encoded data removed]",
      "text/plain": [
       "<Figure size 432x288 with 2 Axes>"
      ]
     },
     "metadata": {
      "needs_background": "light"
     },
     "output_type": "display_data"
    }
   ],
   "source": [
    "y_true = test_generator.labels\n",
    "y_pred = model.predict(test_generator).argmax(axis=1) # Predict prob and get Class Indices\n",
    "\n",
    "evaluation(y_true, y_pred)"
   ]
  },
  {
   "cell_type": "code",
   "execution_count": null,
   "id": "d549af47",
   "metadata": {
    "papermill": {
     "duration": 0.041847,
     "end_time": "2023-07-31T22:47:32.766591",
     "exception": false,
     "start_time": "2023-07-31T22:47:32.724744",
     "status": "completed"
    },
    "tags": []
   },
   "outputs": [],
   "source": []
  },
  {
   "cell_type": "code",
   "execution_count": 33,
   "id": "cc1f5bec",
   "metadata": {
    "execution": {
     "iopub.execute_input": "2023-07-31T22:47:32.853150Z",
     "iopub.status.busy": "2023-07-31T22:47:32.852091Z",
     "iopub.status.idle": "2023-07-31T22:47:32.862661Z",
     "shell.execute_reply": "2023-07-31T22:47:32.861266Z"
    },
    "papermill": {
     "duration": 0.057087,
     "end_time": "2023-07-31T22:47:32.865141",
     "exception": false,
     "start_time": "2023-07-31T22:47:32.808054",
     "status": "completed"
    },
    "tags": []
   },
   "outputs": [
    {
     "data": {
      "text/plain": [
       "{'mask_weared_incorrect': 0, 'with_mask': 1, 'without_mask': 2}"
      ]
     },
     "metadata": {},
     "output_type": "display_data"
    },
    {
     "data": {
      "text/plain": [
       "array([  0, 197,  46])"
      ]
     },
     "execution_count": 33,
     "metadata": {},
     "output_type": "execute_result"
    }
   ],
   "source": [
    "display(classes)\n",
    "np.bincount(y_pred)"
   ]
  },
  {
   "cell_type": "code",
   "execution_count": 34,
   "id": "8d36f6cf",
   "metadata": {
    "execution": {
     "iopub.execute_input": "2023-07-31T22:47:32.953141Z",
     "iopub.status.busy": "2023-07-31T22:47:32.952032Z",
     "iopub.status.idle": "2023-07-31T22:47:33.002599Z",
     "shell.execute_reply": "2023-07-31T22:47:33.000744Z"
    },
    "papermill": {
     "duration": 0.098058,
     "end_time": "2023-07-31T22:47:33.006119",
     "exception": false,
     "start_time": "2023-07-31T22:47:32.908061",
     "status": "completed"
    },
    "tags": []
   },
   "outputs": [],
   "source": [
    "# Save the entire model to a HDF5 file\n",
    "model.save('model.h5')\n"
   ]
  },
  {
   "cell_type": "code",
   "execution_count": 35,
   "id": "7fe0040f",
   "metadata": {
    "execution": {
     "iopub.execute_input": "2023-07-31T22:47:33.092179Z",
     "iopub.status.busy": "2023-07-31T22:47:33.091753Z",
     "iopub.status.idle": "2023-07-31T22:47:33.311397Z",
     "shell.execute_reply": "2023-07-31T22:47:33.309539Z"
    },
    "papermill": {
     "duration": 0.265912,
     "end_time": "2023-07-31T22:47:33.314469",
     "exception": false,
     "start_time": "2023-07-31T22:47:33.048557",
     "status": "completed"
    },
    "tags": []
   },
   "outputs": [
    {
     "name": "stdout",
     "output_type": "stream",
     "text": [
      "The image is most likely without_mask with a 67.85895228385925 percent confidence.\n"
     ]
    }
   ],
   "source": [
    "import numpy as np\n",
    "from keras.preprocessing import image\n",
    "from keras.models import load_model\n",
    "\n",
    "# Load the weights of the model\n",
    "model.load_weights('model.h5')\n",
    "\n",
    "# Load the image file\n",
    "img_path = '/kaggle/input/testimage/Photo on 8-1-23 at 3.56 AM.jpeg' # Replace with your image path\n",
    "img = image.load_img(img_path, target_size=(35, 35))\n",
    "\n",
    "# Preprocess the image\n",
    "img_tensor = image.img_to_array(img)  # Converts the image to a numpy array\n",
    "img_tensor = np.expand_dims(img_tensor, axis=0)  # Reshapes the image\n",
    "img_tensor /= 255.  # Model was trained with inputs scaled to [0, 1]\n",
    "\n",
    "# Use the model to make a prediction\n",
    "prediction = model.predict(img_tensor)\n",
    "\n",
    "# Decode the prediction\n",
    "classes = ['mask_weared_incorrect', 'with_mask', 'without_mask']  # Replace with your actual classes\n",
    "predicted_class = classes[np.argmax(prediction)]\n",
    "\n",
    "print(f'The image is most likely {predicted_class} with a {100 * np.max(prediction)} percent confidence.')\n"
   ]
  },
  {
   "cell_type": "code",
   "execution_count": null,
   "id": "0ba97542",
   "metadata": {
    "papermill": {
     "duration": 0.04075,
     "end_time": "2023-07-31T22:47:33.396740",
     "exception": false,
     "start_time": "2023-07-31T22:47:33.355990",
     "status": "completed"
    },
    "tags": []
   },
   "outputs": [],
   "source": []
  }
 ],
 "metadata": {
  "kernelspec": {
   "display_name": "Python 3",
   "language": "python",
   "name": "python3"
  },
  "language_info": {
   "codemirror_mode": {
    "name": "ipython",
    "version": 3
   },
   "file_extension": ".py",
   "mimetype": "text/x-python",
   "name": "python",
   "nbconvert_exporter": "python",
   "pygments_lexer": "ipython3",
   "version": "3.7.12"
  },
  "papermill": {
   "default_parameters": {},
   "duration": 142.01936,
   "end_time": "2023-07-31T22:47:36.909982",
   "environment_variables": {},
   "exception": null,
   "input_path": "__notebook__.ipynb",
   "output_path": "__notebook__.ipynb",
   "parameters": {},
   "start_time": "2023-07-31T22:45:14.890622",
   "version": "2.3.4"
  }
 },
 "nbformat": 4,
 "nbformat_minor": 5
}
